{
  "nbformat": 4,
  "nbformat_minor": 0,
  "metadata": {
    "colab": {
      "provenance": [],
      "include_colab_link": true
    },
    "kernelspec": {
      "name": "python3",
      "display_name": "Python 3"
    },
    "language_info": {
      "name": "python"
    }
  },
  "cells": [
    {
      "cell_type": "markdown",
      "metadata": {
        "id": "view-in-github",
        "colab_type": "text"
      },
      "source": [
        "<a href=\"https://colab.research.google.com/github/riannagillies/CSC442/blob/main/Group9_HW5b.ipynb\" target=\"_parent\"><img src=\"https://colab.research.google.com/assets/colab-badge.svg\" alt=\"Open In Colab\"/></a>"
      ]
    },
    {
      "cell_type": "markdown",
      "source": [
        "## **Group 9**\n",
        "\n",
        "Rianna Gillies, Laney Wade, Alex Walczyk, John Yu"
      ],
      "metadata": {
        "id": "xtdHs1bwa4M3"
      }
    },
    {
      "cell_type": "code",
      "source": [
        "!pip3 install pandas\n"
      ],
      "metadata": {
        "colab": {
          "base_uri": "https://localhost:8080/"
        },
        "id": "y-KSgm4CM1ZU",
        "outputId": "4508bceb-d58c-4dd7-dadf-2c5d4e9da7aa"
      },
      "execution_count": null,
      "outputs": [
        {
          "output_type": "stream",
          "name": "stdout",
          "text": [
            "Requirement already satisfied: pandas in /usr/local/lib/python3.11/dist-packages (2.2.2)\n",
            "Requirement already satisfied: numpy>=1.23.2 in /usr/local/lib/python3.11/dist-packages (from pandas) (1.26.4)\n",
            "Requirement already satisfied: python-dateutil>=2.8.2 in /usr/local/lib/python3.11/dist-packages (from pandas) (2.8.2)\n",
            "Requirement already satisfied: pytz>=2020.1 in /usr/local/lib/python3.11/dist-packages (from pandas) (2025.1)\n",
            "Requirement already satisfied: tzdata>=2022.7 in /usr/local/lib/python3.11/dist-packages (from pandas) (2025.1)\n",
            "Requirement already satisfied: six>=1.5 in /usr/local/lib/python3.11/dist-packages (from python-dateutil>=2.8.2->pandas) (1.17.0)\n"
          ]
        }
      ]
    },
    {
      "cell_type": "markdown",
      "source": [
        "**Data Cleaning**"
      ],
      "metadata": {
        "id": "19OeYuJAaQVT"
      }
    },
    {
      "cell_type": "code",
      "source": [
        "# Read In Data\n",
        "import pandas as pd\n",
        "import numpy as np\n",
        "\n",
        "from google.colab import drive\n",
        "drive.mount('/content/drive')\n",
        "\n",
        "\n",
        "goalies_df = pd.read_csv('/content/drive/My Drive/Goalies.csv', on_bad_lines=\"skip\")\n",
        "teams_df = pd.read_csv('/content/drive/My Drive/Teams.csv')"
      ],
      "metadata": {
        "id": "ER9FpRMSaQnI",
        "colab": {
          "base_uri": "https://localhost:8080/"
        },
        "outputId": "40dd602d-0d8c-476b-838f-95ff5aaf3c79"
      },
      "execution_count": null,
      "outputs": [
        {
          "output_type": "stream",
          "name": "stdout",
          "text": [
            "Drive already mounted at /content/drive; to attempt to forcibly remount, call drive.mount(\"/content/drive\", force_remount=True).\n"
          ]
        }
      ]
    },
    {
      "cell_type": "code",
      "source": [
        "# Merge datasets\n",
        "merged_df = pd.merge(\n",
        "    teams_df,\n",
        "    goalies_df,\n",
        "    on=['year', 'tmID'],\n",
        "    how='inner'\n",
        ")\n",
        "\n",
        "# 1. Drop unnecessary columns\n",
        "columns_to_drop = ['lgID_y', 'confID', 'divID', 'franchID', 'name',\n",
        "                  'PostGP', 'PostMin', 'PostW', 'PostL', 'PostT', 'PostENG',\n",
        "                  'PostSHO', 'PostGA', 'PostSA', 'playoff', 'rank', 'ENG',\n",
        "                  'lgID_x', 'GA_y', 'W_x', 'L_x', 'T', 'OTL', 'W_y', 'L_y',\n",
        "                  'T/OL', 'SoW', 'SoL']\n",
        "cleaned_df = merged_df.drop(columns=columns_to_drop)\n",
        "\n",
        "# 2. Rename columns for clarity\n",
        "cleaned_df = cleaned_df.rename(columns={'GA_x': 'GA'})\n",
        "\n",
        "# 3. Group by team and year to get team-level statistics\n",
        "team_stats = cleaned_df.groupby(['year', 'tmID']).agg({\n",
        "    'G': 'first',          # Games played by team\n",
        "    'Pts': 'first',        # Team points\n",
        "    'GF': 'first',         # Goals for\n",
        "    'GA': 'first',         # Goals against\n",
        "    'GP': 'sum',           # Total games played by goalies\n",
        "    'Min': 'sum',          # Total minutes by goalies\n",
        "    'SHO': 'sum',          # Total shutouts\n",
        "    'SA': 'sum',           # Total shots against\n",
        "    'PIM': 'first',        # Penalties in minutes\n",
        "    'PPG': 'first',        # Power play goals\n",
        "    'PPC': 'first',        # Power play chances\n",
        "    'PKG': 'first',        # Penalty kill goals against\n",
        "    'PKC': 'first'         # Penalty kill chances\n",
        "}).reset_index()\n",
        "\n",
        "# 4. Calculate additional metrics\n",
        "team_stats['SavePercentage'] = (team_stats['SA'] - team_stats['GA']) / team_stats['SA']\n",
        "team_stats['GoalsAgainstAvg'] = (team_stats['GA'] * 60) / team_stats['Min']\n",
        "\n",
        "# 5. Handle missing/infinite values\n",
        "team_stats = team_stats.replace([np.inf, -np.inf], np.nan)\n",
        "\n",
        "# 6. Display summary statistics and check for missing values\n",
        "print(\"\\nDataset Shape:\", team_stats.shape)\n",
        "print(\"\\nMissing Values:\")\n",
        "print(team_stats.isnull().sum())\n",
        "print(\"\\nSummary Statistics:\")\n",
        "print(team_stats.describe())\n",
        "\n",
        "# Prepare features and target\n",
        "features_to_drop = ['Pts', 'year', 'tmID']\n",
        "X = team_stats.drop(columns=features_to_drop)\n",
        "y = team_stats['Pts']\n",
        "\n",
        "# Clean NaN and infinite values before modeling\n",
        "print(f\"\\nOriginal number of rows: {len(X)}\")\n",
        "\n",
        "# 1. Remove rows with NaN or infinite values\n",
        "X = X.replace([np.inf, -np.inf], np.nan)\n",
        "mask = ~X.isna().any(axis=1)  # Create mask of rows without NaN\n",
        "X = X[mask]\n",
        "y = y[mask]\n",
        "\n",
        "print(f\"Number of rows after removing NaN/infinite values: {len(X)}\")\n",
        "print(f\"Removed {len(team_stats) - len(X)} rows\")"
      ],
      "metadata": {
        "id": "iSdeHFSva_o_",
        "colab": {
          "base_uri": "https://localhost:8080/"
        },
        "outputId": "1af4474c-499c-4154-94ba-243ef390c239"
      },
      "execution_count": null,
      "outputs": [
        {
          "output_type": "stream",
          "name": "stdout",
          "text": [
            "\n",
            "Dataset Shape: (1519, 17)\n",
            "\n",
            "Missing Values:\n",
            "year                 0\n",
            "tmID                 0\n",
            "G                    0\n",
            "Pts                  0\n",
            "GF                   0\n",
            "GA                   0\n",
            "GP                   0\n",
            "Min                  0\n",
            "SHO                  0\n",
            "SA                   0\n",
            "PIM                110\n",
            "PPG                418\n",
            "PPC                419\n",
            "PKG                418\n",
            "PKC                419\n",
            "SavePercentage     685\n",
            "GoalsAgainstAvg      0\n",
            "dtype: int64\n",
            "\n",
            "Summary Statistics:\n",
            "              year            G          Pts           GF           GA  \\\n",
            "count  1519.000000  1519.000000  1519.000000  1519.000000  1519.000000   \n",
            "mean   1974.527979    69.518104    71.276498   218.764977   218.764977   \n",
            "std      28.708711    19.699843    26.277603    77.905094    79.168426   \n",
            "min    1909.000000     1.000000     0.000000     4.000000     8.000000   \n",
            "25%    1957.000000    70.000000    54.000000   176.000000   173.500000   \n",
            "50%    1981.000000    80.000000    75.000000   227.000000   228.000000   \n",
            "75%    1998.000000    82.000000    91.000000   273.500000   276.000000   \n",
            "max    2011.000000    84.000000   132.000000   446.000000   446.000000   \n",
            "\n",
            "                GP          Min          SHO           SA          PIM  \\\n",
            "count  1519.000000  1519.000000  1519.000000  1519.000000  1409.000000   \n",
            "mean     74.419355  4210.146149     4.007242  1298.701119  1139.860185   \n",
            "std      22.447683  1179.566838     3.078135  1202.708683   503.841236   \n",
            "min       1.000000    60.000000     0.000000     0.000000     2.000000   \n",
            "25%      70.000000  4200.000000     2.000000     0.000000   823.000000   \n",
            "50%      85.000000  4800.000000     3.000000  2055.000000  1114.000000   \n",
            "75%      89.000000  4959.000000     6.000000  2426.000000  1463.000000   \n",
            "max     112.000000  5123.000000    22.000000  3157.000000  2713.000000   \n",
            "\n",
            "               PPG          PPC          PKG          PKC  SavePercentage  \\\n",
            "count  1101.000000  1100.000000  1101.000000  1100.000000      834.000000   \n",
            "mean     62.803815   332.540000    62.803815   332.626364        0.893542   \n",
            "std      16.540408    66.880887    16.989719    69.423922        0.016097   \n",
            "min      16.000000   107.000000    24.000000   130.000000        0.833333   \n",
            "25%      51.000000   283.000000    51.000000   279.750000        0.881783   \n",
            "50%      61.000000   331.000000    61.000000   330.000000        0.896331   \n",
            "75%      74.000000   375.000000    74.000000   381.000000        0.905520   \n",
            "max     119.000000   541.000000   122.000000   550.000000        0.928775   \n",
            "\n",
            "       GoalsAgainstAvg  \n",
            "count      1519.000000  \n",
            "mean          3.158176  \n",
            "std           0.843977  \n",
            "min           0.921429  \n",
            "25%           2.599900  \n",
            "50%           3.033430  \n",
            "75%           3.583933  \n",
            "max           8.750000  \n",
            "\n",
            "Original number of rows: 1519\n",
            "Number of rows after removing NaN/infinite values: 828\n",
            "Removed 691 rows\n"
          ]
        }
      ]
    }
  ]
}