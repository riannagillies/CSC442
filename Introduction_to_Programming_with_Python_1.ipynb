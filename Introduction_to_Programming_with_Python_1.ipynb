{
  "cells": [
    {
      "cell_type": "markdown",
      "metadata": {
        "id": "SJ2-_7uCHIun"
      },
      "source": [
        "# Introduction to Programming with Python - Part 1\n",
        "\n",
        "##  Setup\n",
        "\n",
        "With this Google Colaboratory (Colab) notebook open, **click the \"Copy to Drive\" button that appears in the menu bar**. The notebook will then be attached to your own user account, so you can edit it in any way you like -- you can even take notes directly in the notebook.\n",
        "\n",
        "## Learning objectives\n",
        "\n",
        "By the end of our workshop today, we hope you'll understand basic syntax in Python for variables, functions, and understand some of the basic data structures in Python. With these in hand, you'll know enough to write basic scripts and explore other features of the language.  \n",
        "\n",
        "## Today's Topics\n",
        "\n",
        "- Why Python?\n",
        "- Introduction to Jupyter Notebooks and Google Colab\n",
        "- Writing and executing Python code\n",
        "- Variables and data types\n",
        "- Troubleshooting errors\n",
        "\n",
        "We will continue from these topics in our next workshop!\n",
        "\n",
        "## Questions during the workshop\n",
        "\n",
        "Please feel free to ask questions throughout the workshop.\n",
        "\n",
        "We have a second instructor who will available during the workshop. They will answer as able, and will collect questions with answers that might help everyone to be answered at the end of the workshop."
      ]
    },
    {
      "cell_type": "markdown",
      "metadata": {
        "id": "yYkp3KycHIut"
      },
      "source": [
        "## 1.&nbsp;Why Python?\n",
        "\n",
        "It's multi-use: you can write simple scripts to automate tasks, write complex code for machine learning and other approaches, and even build full-scale web applications.\n",
        "\n",
        "The biggest reason we see people learning Python right now is for data science and related approaches, regardless of disciplinary background."
      ]
    },
    {
      "cell_type": "markdown",
      "metadata": {
        "id": "TFekjJ1tHIuu"
      },
      "source": [
        "## 2.&nbsp;Jupyter Notebooks and Google Colaboratory\n",
        "\n",
        "Jupyter notebooks are a way to write and run Python code in an interactive way. They're quickly becoming a standard way of putting together data, code, and written explanations or visualizations into a single document and sharing that. There are a lot of ways that you can run Jupyter notebooks, including just locally on your computer, but we've decided to use Google's Colaboratory notebook platform for this workshop.  Colaboratory is “a Google research project created to help disseminate machine learning education and research.”  If you would like to know more about Colaboratory in general, you can visit the [Welcome Notebook](https://colab.research.google.com/notebooks/welcome.ipynb).\n",
        "\n",
        "Using the Google Colaboratory platform allows us to focus on learning and writing Python in the workshop rather than on setting up Python, which can sometimes take a bit of extra work depending on platforms, operating systems, and other installed applications. If you'd like to install a Python distribution locally, though, we're happy to help. Feel free to [get help from our graduate consultants](https://go.ncsu.edu/getdatahelp) or [schedule an appointment with Libraries staff](https://go.ncsu.edu/dvs-request)."
      ]
    },
    {
      "cell_type": "markdown",
      "metadata": {
        "id": "BkCem8mKIWe1"
      },
      "source": [
        "### 2.1&nbsp;Text cells\n",
        "\n",
        "Text cells use markdown syntax to generate formatted text that can be used to add context and organization to your notebook.\n",
        "\n",
        "**Double-click** on this text cell to enable edit mode and see the markdown syntax below:\n",
        "\n",
        "# Section 1\n",
        "## Sub-section 1.1\n",
        "### Sub-section 1.1.1\n",
        "# Section 2\n",
        "\n",
        "A list demonstrating:\n",
        "- **Bold text**\n",
        "- *Italicized text*\n",
        "- [Links](https://www.lib.ncsu.edu/services/data-visualization)\n",
        "- `code`\n",
        "    1. Ordered lists\n",
        "    2. More ordered lists\n",
        "\n",
        "See the [Markdown Guide](https://www.markdownguide.org/cheat-sheet/) to learn more about the Markdown syntax."
      ]
    },
    {
      "cell_type": "markdown",
      "metadata": {
        "id": "MNkybjntII2T"
      },
      "source": [
        "### 2.2&nbsp;Code cells and writing Python code\n",
        "\n",
        "In this section you will learn how to run code in Colab and some basic Python syntax."
      ]
    },
    {
      "cell_type": "markdown",
      "metadata": {
        "id": "syQpB52cIMeh"
      },
      "source": [
        "#### 2.2.1&nbsp;Running code cells\n",
        "\n",
        "A code cell is a place to write and execute Python code. To run a code cell, click inside of the cell and do one of the following:\n",
        "\n",
        "* Click the **Play icon** in the left gutter of the cell\n",
        "* Type **Cmd/Ctrl+Enter** to run the cell in place\n",
        "* Type **Shift+Enter** to run the cell and move focus to the next cell (adding one if none exists)\n",
        "* Type **Alt+Enter** to run the cell and insert a new code cell immediately below it.\n",
        "\n",
        "There are additional options for running some or all cells in the **Runtime** menu.\n",
        "\n",
        "Run the example code cell below. Don't worry about completely understanding this code, it contains Python syntax that we will introduce over the course of these workshops."
      ]
    },
    {
      "cell_type": "code",
      "execution_count": 1,
      "metadata": {
        "colab": {
          "base_uri": "https://localhost:8080/"
        },
        "id": "pSlDyqVxkIjs",
        "outputId": "482f49bf-24c3-4435-d7f3-335b0a028658"
      },
      "outputs": [
        {
          "output_type": "stream",
          "name": "stdout",
          "text": [
            "this cell ran\n"
          ]
        }
      ],
      "source": [
        "# Define the variable \"run_it\" and store the string \"run this cell\"\n",
        "run_it = \"run this cell\"\n",
        "\n",
        "# Test if the contents of \"run_it\" is equal to the string \"run this cell\"\n",
        "# and print the output accordingly\n",
        "if run_it == \"run this cell\":\n",
        "  print(\"this cell ran\")\n",
        "else:\n",
        "  print(\"this cell still ran\")"
      ]
    },
    {
      "cell_type": "markdown",
      "metadata": {
        "id": "J2lNNkfDGIwP"
      },
      "source": [
        "#### 2.2.2&nbsp;Comments and code\n",
        "\n",
        "In the code below, you'll see some lines that start with `#` and are shown in a different color of font than the rest of the code. These are comments, which are ways to annotate your code in any Python environment.\n",
        "\n",
        "Python skips over comments when running code, so those lines don't execute any instructions. They can be helpful when debugging code, and for making notes in plain language to help you make sense of the code."
      ]
    },
    {
      "cell_type": "code",
      "execution_count": 2,
      "metadata": {
        "id": "9cZtx9IFKEze"
      },
      "outputs": [],
      "source": [
        "# This is a comment in a code block.\n",
        "# Any line beginning with a \"#\" is a comment\n",
        "# A comment is descriptive text that is ignored when the code is run"
      ]
    },
    {
      "cell_type": "markdown",
      "metadata": {
        "id": "EQvmdEViL0sH"
      },
      "source": [
        "Code contains instructions that are executed when you run them. These are examples of lines of code:"
      ]
    },
    {
      "cell_type": "code",
      "execution_count": 3,
      "metadata": {
        "colab": {
          "base_uri": "https://localhost:8080/"
        },
        "id": "trNVqekDKFab",
        "outputId": "3a32267d-cf66-4069-d122-5cf8a5727484"
      },
      "outputs": [
        {
          "output_type": "stream",
          "name": "stdout",
          "text": [
            "This is a line of code\n"
          ]
        }
      ],
      "source": [
        "print('This is a line of code')"
      ]
    },
    {
      "cell_type": "code",
      "execution_count": 4,
      "metadata": {
        "colab": {
          "base_uri": "https://localhost:8080/"
        },
        "id": "I7kYeGCILqi-",
        "outputId": "bb3c499a-c099-4c98-8484-d9a67420d684"
      },
      "outputs": [
        {
          "output_type": "execute_result",
          "data": {
            "text/plain": [
              "16"
            ]
          },
          "metadata": {},
          "execution_count": 4
        }
      ],
      "source": [
        "4 * 4"
      ]
    },
    {
      "cell_type": "markdown",
      "metadata": {
        "id": "aAE5pHZsJ8EH"
      },
      "source": [
        "**Try it yourself:** What is the output of running this cell?"
      ]
    },
    {
      "cell_type": "code",
      "execution_count": 5,
      "metadata": {
        "colab": {
          "base_uri": "https://localhost:8080/"
        },
        "id": "y0vI6FWoIShP",
        "outputId": "01efc1ba-b25c-4310-c257-34bc2cbad60f"
      },
      "outputs": [
        {
          "output_type": "execute_result",
          "data": {
            "text/plain": [
              "4"
            ]
          },
          "metadata": {},
          "execution_count": 5
        }
      ],
      "source": [
        "# 1 + 1\n",
        "1 + 3"
      ]
    },
    {
      "cell_type": "markdown",
      "metadata": {
        "id": "8WnP84hpc20H"
      },
      "source": [
        "By default, in Jupyter Notebooks and Google Colab the last line that produces a value in a code cell is printed. To print a value that is not at the end of a code cell use the `print()` function"
      ]
    },
    {
      "cell_type": "code",
      "execution_count": 6,
      "metadata": {
        "colab": {
          "base_uri": "https://localhost:8080/",
          "height": 52
        },
        "id": "ywubqBIGiyuK",
        "outputId": "a82c686a-907e-4416-d604-5a480b9f490a"
      },
      "outputs": [
        {
          "output_type": "stream",
          "name": "stdout",
          "text": [
            "This string is printed using the print function\n"
          ]
        },
        {
          "output_type": "execute_result",
          "data": {
            "text/plain": [
              "'This string is printed because it is the last line in a code cell'"
            ],
            "application/vnd.google.colaboratory.intrinsic+json": {
              "type": "string"
            }
          },
          "metadata": {},
          "execution_count": 6
        }
      ],
      "source": [
        "print('This string is printed using the print function')\n",
        "\n",
        "'This line is not printed'\n",
        "\n",
        "'This string is printed because it is the last line in a code cell'"
      ]
    },
    {
      "cell_type": "markdown",
      "metadata": {
        "id": "QfYzIQwRkzI7"
      },
      "source": [
        "#### 2.2.3&nbsp;Automatic Completion\n",
        "\n",
        "When typing code in Google Colab, you can use automatic code completion support to get suggestions. For example, if you are unsure if there is a function to find a **minimum value** from a collection of values, you could start typing \"m\" and see a suggested list of options to complete the statement.\n",
        "\n",
        "You can also open the autocomplete list by presssing **ctrl+space**."
      ]
    },
    {
      "cell_type": "code",
      "execution_count": 9,
      "metadata": {
        "id": "ZI3PjMntBu1E"
      },
      "outputs": [],
      "source": [
        "# Type in the letter 'm' to see values that begin with the letter m"
      ]
    },
    {
      "cell_type": "markdown",
      "metadata": {
        "id": "pbFKdUiTAkb2"
      },
      "source": [
        "#### 2.2.4&nbsp;Finding Help in Colab\n",
        "\n",
        "Google Colab allows you to look up documentation on functions. To do this, type the function with a ? after it and run the cell. This will bring up a help window."
      ]
    },
    {
      "cell_type": "code",
      "execution_count": 10,
      "metadata": {
        "id": "oG-1fiaPBJ0P"
      },
      "outputs": [],
      "source": [
        "# Run this cell to find out what the built-in Python function \"len\" does\n",
        "len?"
      ]
    },
    {
      "cell_type": "markdown",
      "metadata": {
        "id": "JFZht2PvHIux"
      },
      "source": [
        "## 3.&nbsp;Variables and data types\n",
        "\n",
        "In this section you will learn about variables and data types, the building blocks of writing code.\n",
        "\n",
        "To learn more about variables and data types:\n",
        "\n",
        "- [\"Basics\" chapter of *A Byte of Python*](https://python.swaroopch.com/basics.html)\n",
        "- [\"Variables in Python\" on the website Real Python](https://realpython.com/python-variables/)"
      ]
    },
    {
      "cell_type": "markdown",
      "metadata": {
        "id": "YYPziUBgN2f7"
      },
      "source": [
        "### 3.1&nbsp;Variables\n",
        "\n",
        "Variables store values for us to use at different points in our code. It allows us to access and change values as we need them, giving us a lot more flexibility as programmers.\n",
        "\n",
        "Variable names can contain letters (A-Z, a-z), numbers (0-1), and underscores (_). **They cannot contain spaces** and **they cannot begin with a number**."
      ]
    },
    {
      "cell_type": "code",
      "execution_count": 19,
      "metadata": {
        "id": "GtmNa2IxN8U8",
        "colab": {
          "base_uri": "https://localhost:8080/"
        },
        "outputId": "272713f9-f3de-4514-e5ec-a4978fb0fc2a"
      },
      "outputs": [
        {
          "output_type": "stream",
          "name": "stdout",
          "text": [
            "9\n",
            "81\n",
            "number x number = number_times\n"
          ]
        }
      ],
      "source": [
        "# Store a number in the variable \"number\"\n",
        "number <- 9\n",
        "print(number)\n",
        "\n",
        "# Calculate the value of \"number\" * \"number\"\n",
        "print(number * number)\n",
        "\n",
        "# Use a formatted string to output the equation text: \"number x number = number_times\"\n",
        "print('number x number = number_times')"
      ]
    },
    {
      "cell_type": "markdown",
      "metadata": {
        "id": "B1nIXX3iIWe4"
      },
      "source": [
        "**Try it yourself**: Calculate the sum of `number` and `number`, store it in a variable `number_plus`, and print out the value of `number_plus`\n",
        "\n",
        "*Note that in a notebook environment like Colab, variables defined in one cell are accessible in other cells*"
      ]
    },
    {
      "cell_type": "code",
      "execution_count": null,
      "metadata": {
        "id": "bV4fQG_oIWe4"
      },
      "outputs": [],
      "source": [
        "# Store the value of \"number\" + \"number\" in \"number_plus\" and print the value\n"
      ]
    },
    {
      "cell_type": "markdown",
      "metadata": {
        "id": "p9km8ARwVtMb"
      },
      "source": [
        "### 3.2&nbsp;Data types\n",
        "\n",
        "Variables can hold different types of values, or data types. There are many data types, but we will only discuss the most common here: strings (`str`), integers (`int`), floats (`float`), lists (`list`), and dictionaries (`dict`). Each data type has built in methods for manipulating and extracting the contained value or values.\n",
        "\n",
        "You can get the data type of a value by using the `type()` function"
      ]
    },
    {
      "cell_type": "code",
      "execution_count": null,
      "metadata": {
        "id": "Rzdm4PBhIWe4"
      },
      "outputs": [],
      "source": [
        "# Using the built-in Python function \"type\"\n"
      ]
    },
    {
      "cell_type": "markdown",
      "metadata": {
        "id": "KELJURXdE34T"
      },
      "source": [
        "#### 3.2.1&nbsp;Strings\n",
        "Strings are groups of characters, similar to words. They are surrounded by quotes (either single quotes `'a string'` or double quotes `\"a string\"`). Strings are immutable, which means that they cannot be changed after you have created one.\n",
        "\n",
        "To learn more about strings:\n",
        "\n",
        "- [Python documentation for strings](https://docs.python.org/3/tutorial/introduction.html#strings)."
      ]
    },
    {
      "cell_type": "code",
      "execution_count": null,
      "metadata": {
        "id": "2dKlye84HIuy"
      },
      "outputs": [],
      "source": [
        "# Store the string \"Hello, I'm Spot the cat. It's nice to meet you.\"\n",
        "# in the variable \"greeting\"\n"
      ]
    },
    {
      "cell_type": "markdown",
      "metadata": {
        "id": "UsoCbr0RJZMh"
      },
      "source": [
        "**Indexing**\n",
        "\n",
        "The index indicates the position of a character. In Python, we start counting indexes from zero. The first character is at index 0, the second is index 1, the third is index 2, and so on."
      ]
    },
    {
      "cell_type": "code",
      "execution_count": null,
      "metadata": {
        "id": "bgTKY2nrHIu7"
      },
      "outputs": [],
      "source": [
        "# Find a character in a string by index\n",
        "# index 4 will return the fifth character: H[0] e[1] l[2] l[3] o[4]\n"
      ]
    },
    {
      "cell_type": "code",
      "execution_count": null,
      "metadata": {
        "id": "mlKrvYoPHIvW"
      },
      "outputs": [],
      "source": [
        "# Slice to get the first 3 characters\n",
        "# Basic format is identifier[start:end:step] (the end value is exclusive)\n"
      ]
    },
    {
      "cell_type": "code",
      "execution_count": null,
      "metadata": {
        "id": "Uvl5az1AOug3"
      },
      "outputs": [],
      "source": [
        "# You can get the same output by omitting a number on either side of the colon\n",
        "# Omitted start=0, omitted end=length\n"
      ]
    },
    {
      "cell_type": "code",
      "execution_count": null,
      "metadata": {
        "id": "zIJzWuG5HIvd"
      },
      "outputs": [],
      "source": [
        "# Get the last three characters of the string by using negative numbers, they\n",
        "# count from the end of the string.\n"
      ]
    },
    {
      "cell_type": "markdown",
      "metadata": {
        "id": "xisbVii3XxTy"
      },
      "source": [
        "**String methods**\n",
        "\n",
        "We have already seen some of Python's built-in functions such as `min()`, `print()` and `len()`. For example, we can use the `len` function to get the number of characters in a string.\n",
        "\n",
        "[Full list of Python built-in functions](https://www.w3schools.com/python/python_ref_functions.asp)"
      ]
    },
    {
      "cell_type": "code",
      "execution_count": null,
      "metadata": {
        "id": "L-umU4JrIWe5"
      },
      "outputs": [],
      "source": [
        "# Get the number of characters of the string stored in \"greeting\"\n"
      ]
    },
    {
      "cell_type": "markdown",
      "metadata": {
        "id": "Y9Ehobo0IWe5"
      },
      "source": [
        "Strings, or more specifically string objects, contain methods that allow you to perform operations specific to string data types. An object's methods are callable using dot (`.`) notation. First you call the object (in this case, the string), then a period (`.`), and then you can call a method name, followed by an open and close parentheses `()`. For some methods you include arguments inside of the parentheses that provide additional data to the method or specify method parameters. Dot notation has the following general format:\n",
        "\n",
        "```python\n",
        "object.method(argument_1, argument_2)\n",
        "```\n",
        "\n",
        "[Full list of Python string methods](https://www.w3schools.com/python/python_ref_string.asp)"
      ]
    },
    {
      "cell_type": "code",
      "execution_count": null,
      "metadata": {
        "id": "SrUawwd_HIvL"
      },
      "outputs": [],
      "source": [
        "# Count spaces in the string. Here, count() is a method that all strings have,\n",
        "# i.e., a function that can be run on the string.\n",
        "# (Note: Autocompletion also works with data methods)\n"
      ]
    },
    {
      "cell_type": "code",
      "execution_count": null,
      "metadata": {
        "id": "zjkm_CS2HIvi"
      },
      "outputs": [],
      "source": [
        "# Replace \"Hello\" with \"Goodbye\". The replace() method.\n"
      ]
    },
    {
      "cell_type": "code",
      "execution_count": null,
      "metadata": {
        "id": "5evUh6vIZbuS"
      },
      "outputs": [],
      "source": [
        "# Note that string methods return new values, they don't change the original\n",
        "# string\n",
        "# Print the original \"greeting\" string, notice it didn't change\n",
        "\n",
        "\n",
        "# We need to create a variable for the new string we manipulated\n"
      ]
    },
    {
      "cell_type": "code",
      "execution_count": null,
      "metadata": {
        "id": "3VS_83xpHIvm"
      },
      "outputs": [],
      "source": [
        "# String concatenation\n"
      ]
    },
    {
      "cell_type": "code",
      "execution_count": null,
      "metadata": {
        "id": "SZLoAUy5jclr"
      },
      "outputs": [],
      "source": [
        "# Formatted strings (another way to combine data with strings)\n"
      ]
    },
    {
      "cell_type": "markdown",
      "metadata": {
        "id": "J6eys7-NIWe7"
      },
      "source": [
        "**Try it yourself**: Use indexing and concatenation to 1) get the sixth character contained in the string `my_string` and 2) create a new variable with the following text: `The sixth character in this string is [character goes here]`.\n",
        "\n",
        "*Tip:* Characters include spaces."
      ]
    },
    {
      "cell_type": "code",
      "execution_count": null,
      "metadata": {
        "id": "vDoNriX7IWe7"
      },
      "outputs": [],
      "source": [
        "# Start with this string\n",
        "my_string = \"The sixth character in this string is\"\n",
        "\n",
        "# Create a new variable, set equal to the string above concatenated with a\n",
        "# space and the sixth character in the string\n",
        "\n",
        "\n",
        "# Print the new string\n"
      ]
    },
    {
      "cell_type": "markdown",
      "metadata": {
        "id": "HbKeZu09IWe7"
      },
      "source": [
        "**Bonus Try it Yourself**: Use the `replace()` method to replace the phrase \"pet\" with \"tabby cat\" in the string below."
      ]
    },
    {
      "cell_type": "code",
      "execution_count": null,
      "metadata": {
        "id": "pftlkRHgIWe7"
      },
      "outputs": [],
      "source": [
        "# Original string\n",
        "sentence = \"I adopted a pet.\"\n",
        "\n",
        "# Use replace() to replace \"pet\" with \"tabby cat\"\n",
        "\n",
        "\n",
        "# Print the new string\n"
      ]
    },
    {
      "cell_type": "markdown",
      "metadata": {
        "id": "fGYVdKVOIWe7"
      },
      "source": [
        "#### 3.2.2&nbsp;Numbers (integers and floats)\n",
        "\n",
        "Python uses two main kinds of numbers, integers and floats. Integers are whole numbers (1, 42, 0, -8) and floats are numbers with decimals (120.549, -5.3, 8.0).\n",
        "\n",
        "To learn more about numbers and operators:\n",
        "\n",
        "- [\"Operators and Expressions\" chapter of A Byte of Python](https://python.swaroopch.com/op_exp.html)\n",
        "- [Python documentation for numbers.](https://python.swaroopch.com/op_exp.html)"
      ]
    },
    {
      "cell_type": "code",
      "execution_count": null,
      "metadata": {
        "id": "73438kSPHIvu"
      },
      "outputs": [],
      "source": [
        "# Integer\n",
        "\n",
        "\n",
        "# Float\n",
        "\n",
        "\n",
        "# Print the data types of first_num and second_num\n"
      ]
    },
    {
      "cell_type": "markdown",
      "metadata": {
        "id": "wc3cl1Sa-yNi"
      },
      "source": [
        "**Basic mathematical operations**"
      ]
    },
    {
      "cell_type": "code",
      "execution_count": null,
      "metadata": {
        "id": "xxjzn3dfHIvx"
      },
      "outputs": [],
      "source": [
        "# Addition\n"
      ]
    },
    {
      "cell_type": "code",
      "execution_count": null,
      "metadata": {
        "id": "xBy-9Z-9HIv3"
      },
      "outputs": [],
      "source": [
        "# Division (note the data type of the output)\n"
      ]
    },
    {
      "cell_type": "code",
      "execution_count": null,
      "metadata": {
        "id": "3haQcz2pCpIp"
      },
      "outputs": [],
      "source": [
        "# Floor Division, rounding down to nearest integer (\"floor\")\n"
      ]
    },
    {
      "cell_type": "code",
      "execution_count": null,
      "metadata": {
        "id": "aQbMEh7uHIv9"
      },
      "outputs": [],
      "source": [
        "# Multiplication (note the data type of the output)\n"
      ]
    },
    {
      "cell_type": "markdown",
      "metadata": {
        "id": "Gg0yU3utQpbA"
      },
      "source": [
        "Other mathematical operators you can also use in Python:\n",
        "\n",
        "- subtraction -\n",
        "- exponents **\n",
        "- remainders (modulus) %"
      ]
    },
    {
      "cell_type": "markdown",
      "metadata": {
        "id": "ghlICaVyIWe8"
      },
      "source": [
        "**Try it Yourself**: What is 400 times 4, divided by 14, plus 39?"
      ]
    },
    {
      "cell_type": "code",
      "execution_count": null,
      "metadata": {
        "id": "hJ1lrXSvIWe8"
      },
      "outputs": [],
      "source": [
        "# Enter the mathematical equation\n"
      ]
    },
    {
      "cell_type": "markdown",
      "metadata": {
        "id": "bNdU-WUdIWe8"
      },
      "source": [
        "**Bonus Try it Yourself:** What is the datatype of the output from the previous cell?"
      ]
    },
    {
      "cell_type": "code",
      "execution_count": null,
      "metadata": {
        "id": "UBkdrYn_IWe8"
      },
      "outputs": [],
      "source": []
    },
    {
      "cell_type": "markdown",
      "metadata": {
        "id": "-ImnjYeCIWe8"
      },
      "source": [
        "## Five (5) Minute Break"
      ]
    },
    {
      "cell_type": "markdown",
      "metadata": {
        "id": "nU5iFjm3TKgB"
      },
      "source": [
        "#### 3.2.3&nbsp;Lists\n",
        "\n",
        "A list holds a sequence of items. Lists can contain many different data types as list items. To reference a list item, you use the index (starting at zero, the same as a string).\n",
        "\n",
        "To learn more about lists:\n",
        "\n",
        "- [\"Data Structures\" chapter of *A Byte of Python*](https://python.swaroopch.com/data_structures.html)\n",
        "- [Python documentation for lists](https://docs.python.org/3/tutorial/introduction.html#lists)"
      ]
    },
    {
      "cell_type": "code",
      "execution_count": null,
      "metadata": {
        "id": "wrwQEJrEHIwF"
      },
      "outputs": [],
      "source": [
        "# An example of a list of strings (cat_toys)\n",
        "\n",
        "\n",
        "# Print out the list\n"
      ]
    },
    {
      "cell_type": "code",
      "execution_count": null,
      "metadata": {
        "id": "zB7aR64oHIwK"
      },
      "outputs": [],
      "source": [
        "# Python allows you to create lists containing elements of different types\n",
        "\n",
        "\n",
        "# Print out the data types of the items in the 'mixed' list (We use a for loop\n",
        "# in this example. We will introduce for loops in the next session)\n"
      ]
    },
    {
      "cell_type": "markdown",
      "metadata": {
        "id": "0b_36uuGxQIq"
      },
      "source": [
        "**Indexing**"
      ]
    },
    {
      "cell_type": "code",
      "execution_count": null,
      "metadata": {
        "id": "OraaGapZHIwP"
      },
      "outputs": [],
      "source": [
        "# Get a list item by index\n"
      ]
    },
    {
      "cell_type": "code",
      "execution_count": null,
      "metadata": {
        "id": "B9cPD5WVdGIt"
      },
      "outputs": [],
      "source": [
        "# Replace an element \"in place\" via its index\n"
      ]
    },
    {
      "cell_type": "markdown",
      "metadata": {
        "id": "Edp6JYk5xZwk"
      },
      "source": [
        "**List methods**\n",
        "\n",
        "Unlike strings, lists are mutable and can be changed after creation. Some list methods alter the existing list while some return a new value.\n",
        "\n",
        "[Full list of Python list methods](https://www.w3schools.com/python/python_ref_list.asp)"
      ]
    },
    {
      "cell_type": "code",
      "execution_count": null,
      "metadata": {
        "id": "KB2zWbVfHIwT"
      },
      "outputs": [],
      "source": [
        "# Add \"catnip\" to the end of the \"cat_toys\" list (append list method)\n",
        "# This method alters the original list and will continue to add to the end of\n",
        "# the list every time you run the cell\n"
      ]
    },
    {
      "cell_type": "code",
      "execution_count": null,
      "metadata": {
        "id": "WzW4Ymg4IWe9"
      },
      "outputs": [],
      "source": [
        "# Count the number of elements with the value \"catnip\" in the list\n",
        "# This method does not alter the original list and returns a value\n"
      ]
    },
    {
      "cell_type": "code",
      "execution_count": null,
      "metadata": {
        "id": "hYbeDGJQIWe9"
      },
      "outputs": [],
      "source": [
        "# Remove first occurrence of value in the list (remove list method)\n"
      ]
    },
    {
      "cell_type": "code",
      "execution_count": null,
      "metadata": {
        "id": "sw1B7uasHIwX"
      },
      "outputs": [],
      "source": [
        "# Splitting a string - output will be a new list (this is a string method)\n",
        "# The string will split based on the string you pass to the split method\n"
      ]
    },
    {
      "cell_type": "code",
      "execution_count": null,
      "metadata": {
        "id": "df1BPlH6HIwZ"
      },
      "outputs": [],
      "source": [
        "# Joining a list of strings\n",
        "# There is no join method for a list, we have to use a string method instead.\n",
        "# cat_toys.join()\n",
        "# The list (inside the parenthesis) will join on whatever string you call\n"
      ]
    },
    {
      "cell_type": "markdown",
      "metadata": {
        "id": "NNgxOgoWIWe9"
      },
      "source": [
        "**Try it Yourself:** Replace the list item \"orange\" with \"pear.\""
      ]
    },
    {
      "cell_type": "code",
      "execution_count": null,
      "metadata": {
        "id": "Oqm1uhmIIWe9"
      },
      "outputs": [],
      "source": [
        "fruit = [\"banana\", \"orange\", \"apple\"]\n"
      ]
    },
    {
      "cell_type": "markdown",
      "metadata": {
        "id": "sMKoPUNWIWe9"
      },
      "source": [
        "**Bonus Try it Yourself:** Print the value \"g\" from the list `letter_list`."
      ]
    },
    {
      "cell_type": "code",
      "execution_count": null,
      "metadata": {
        "id": "3NSW6Jp3IWe9"
      },
      "outputs": [],
      "source": [
        "letter_list = [\"a\", \"b\", \"c\", [\"d\", \"e\"], [\"f\", \"g\"]]\n"
      ]
    },
    {
      "cell_type": "markdown",
      "metadata": {
        "id": "xRpxBd_RbgpQ"
      },
      "source": [
        "#### 3.2.4&nbsp;Dictionaries\n",
        "\n",
        "Dictionaries hold values that are associated with a key, they exist as pairs. Each key (like a word in a dictionary) has a value (like the word's definition). You can use the values in a dictionary by referencing the key, since each key is unique. Unlike a list, a dictionary does not have an order.\n",
        "\n",
        "To learn more about dictionaries:\n",
        "- [\"Data Structures\" chapter of *A Byte of Python*](https://python.swaroopch.com/data_structures.html)\n",
        "- [Python documentation for dictionaries](https://docs.python.org/3/tutorial/datastructures.html#dictionaries)"
      ]
    },
    {
      "cell_type": "code",
      "execution_count": null,
      "metadata": {
        "id": "0Q4DxvmBDGNT"
      },
      "outputs": [],
      "source": [
        "# Define a dictionary of cat names and their breed\n",
        "\n",
        "\n",
        "# Print out the dictionary\n"
      ]
    },
    {
      "cell_type": "markdown",
      "metadata": {
        "id": "NlJ4SGsQxmAc"
      },
      "source": [
        "**Dictionary manipulation**"
      ]
    },
    {
      "cell_type": "code",
      "execution_count": null,
      "metadata": {
        "id": "bLHd0nODessf"
      },
      "outputs": [],
      "source": [
        "# You can access the value of a dictionary by calling its key pair\n"
      ]
    },
    {
      "cell_type": "code",
      "execution_count": null,
      "metadata": {
        "id": "KH3WZFwrfNCy"
      },
      "outputs": [],
      "source": [
        "# You can add new keys and values to a dictionary\n",
        "\n",
        "\n",
        "# Print out the dictionary\n"
      ]
    },
    {
      "cell_type": "markdown",
      "metadata": {
        "id": "UZQtYKw-IWe9"
      },
      "source": [
        "**Dictionary methods**\n",
        "\n",
        "Like lists, dictionaries are mutable and can be changed after creation\n",
        "\n",
        "[Full list of Python dictionary methods](https://www.w3schools.com/python/python_ref_dictionary.asp)"
      ]
    },
    {
      "cell_type": "code",
      "execution_count": null,
      "metadata": {
        "id": "49BNmWH1IWe9"
      },
      "outputs": [],
      "source": [
        "# Get the dictionary's keys as a list\n"
      ]
    },
    {
      "cell_type": "markdown",
      "metadata": {
        "id": "RXnQ5d_tIWe9"
      },
      "source": [
        "**Try it Yourself:** Print out \"Spot's\" birthday from the `birthdays` dictionary."
      ]
    },
    {
      "cell_type": "code",
      "execution_count": null,
      "metadata": {
        "id": "8WjsN8_0IWe-"
      },
      "outputs": [],
      "source": [
        "birthdays = {\n",
        "    \"Bill\": \"Sept 5\",\n",
        "    \"Spot\": \"April 19\",\n",
        "    \"Apple\": \"June 30\",\n",
        "    \"Carla\": \"Dec 21\"\n",
        "}\n",
        "\n"
      ]
    },
    {
      "cell_type": "markdown",
      "metadata": {
        "id": "d7_mJp0hIWe-"
      },
      "source": [
        "**Bonus Try it Yourself:** Add \"Sparky\" to the `birthdays` dictionary with the birthday \"May 10\""
      ]
    },
    {
      "cell_type": "code",
      "execution_count": null,
      "metadata": {
        "id": "Y72Mk51vIWe-"
      },
      "outputs": [],
      "source": []
    },
    {
      "cell_type": "markdown",
      "metadata": {
        "id": "W_T7dEj0IWe-"
      },
      "source": [
        "## 4.&nbsp;Errors and troubleshooting\n",
        "\n",
        "Any time you write code you will encounter errors, it's a normal part of programming. Even experienced coders look up syntax and get errors when their code doesn't work. You can look up unfamiliar errors when you encounter them, but there are a few common types you will likely run into:\n",
        "\n",
        "- NameError - Raised when a variable is not found in the local or global scope.\n",
        "- SyntaxError - Raised by the parser when a syntax error is encountered.\n",
        "- IndexError - Raised when the index of a sequence is out of range.\n",
        "- KeyError - Raised when a key is not found in a dictionary.\n",
        "- TypeError - Raised when a function or operation is applied to an object of an incorrect type.\n",
        "\n",
        "[Error types](https://www.tutorialsteacher.com/python/error-types-in-python) - a table listing the built-in Python error types"
      ]
    },
    {
      "cell_type": "code",
      "execution_count": null,
      "metadata": {
        "id": "BG2pdJJ4IWe-"
      },
      "outputs": [],
      "source": [
        "# Referencing an undefined variable results in a \"NameError\"\n",
        "\n",
        "undefined_variable"
      ]
    },
    {
      "cell_type": "code",
      "execution_count": null,
      "metadata": {
        "id": "UB0N3R7CIWe-"
      },
      "outputs": [],
      "source": [
        "# Using incorrect Python syntax results in a \"SyntaxError\"\n",
        "\n",
        "minimum = min(56, 234, 8564,"
      ]
    },
    {
      "cell_type": "code",
      "execution_count": null,
      "metadata": {
        "scrolled": true,
        "id": "veP6a46_IWe-"
      },
      "outputs": [],
      "source": [
        "# Referencing an index that is out of range results in an \"IndexError\"\n",
        "\n",
        "example_list = [1, 2, 3]\n",
        "example_list[3]"
      ]
    },
    {
      "cell_type": "code",
      "execution_count": null,
      "metadata": {
        "id": "P_FVUyKwIWe-"
      },
      "outputs": [],
      "source": [
        "# Referencing a dictionary key that is not valid results in a \"KeyError\"\n",
        "\n",
        "example_dict = {\n",
        "    \"a\": 1,\n",
        "    \"b\": 2,\n",
        "    \"c\": 3\n",
        "}\n",
        "example_dict[\"d\"]"
      ]
    },
    {
      "cell_type": "code",
      "execution_count": null,
      "metadata": {
        "id": "ACOqsUCXIWe-"
      },
      "outputs": [],
      "source": [
        "# Applying a function or operation to an incorrect data type results in a\n",
        "# \"TypeError\"\n",
        "\n",
        "\"Microphone check 1, \" + 2 + \" what is this?\""
      ]
    },
    {
      "cell_type": "markdown",
      "metadata": {
        "id": "QSuarC6OIWe-"
      },
      "source": [
        "**Try it yourself**: Run each cell below to identify the error and then edit the code to fix each error"
      ]
    },
    {
      "cell_type": "code",
      "execution_count": null,
      "metadata": {
        "id": "ifey1hyTIWe-"
      },
      "outputs": [],
      "source": [
        "'This is a good string.'\n",
        "'Isn't this string okay?'\n",
        "\"Pretty sure this is a good string.\"\n",
        "\"Is there something wrong with this string?\""
      ]
    },
    {
      "cell_type": "code",
      "execution_count": null,
      "metadata": {
        "id": "ko-9J8sUIWe-"
      },
      "outputs": [],
      "source": [
        "bank_accounts = {\n",
        "    \"savings\": 100,\n",
        "    \"checking\": 3000\n",
        "}\n",
        "\n",
        "bank_accounts['saving']"
      ]
    },
    {
      "cell_type": "code",
      "execution_count": null,
      "metadata": {
        "id": "6bwztMruIWe-"
      },
      "outputs": [],
      "source": [
        "count = [1, 2, 3, 4, 5]\n",
        "count[5]"
      ]
    },
    {
      "cell_type": "code",
      "execution_count": null,
      "metadata": {
        "id": "1wIZhqSkIWe-"
      },
      "outputs": [],
      "source": [
        "1 + 2 + \"3\""
      ]
    },
    {
      "cell_type": "markdown",
      "metadata": {
        "id": "8c8u-2G-nsKF"
      },
      "source": [
        "## 5.&nbsp;Final Activity"
      ]
    },
    {
      "cell_type": "markdown",
      "metadata": {
        "id": "ms8LwBauhow9"
      },
      "source": [
        "This activity will use what we have learned so far to automate a common marketing administrative task that you have probably seen in your own email inbox: a personalized letter greeting.\n",
        "\n",
        "The Python dictionary below contains information on a member of the *International Cats of Mystery* service. The data includes:\n",
        "  1. the member's name\n",
        "  2. the year they joined the service\n",
        "  3. their address information\n",
        "  4. an ordered list of the subscriptions they have with the service (from most popular to least popular subscription).\n",
        "\n",
        "Write code to produce the following personalized message for this member:\n",
        "\n",
        "> *Hello **[member name]**, Thank you for being a valued member for the last **[member's years of membership]** years. We have an exclusive discount on our **[member's top subscription with the service]**.*"
      ]
    },
    {
      "cell_type": "markdown",
      "metadata": {
        "id": "Q871SpaAOKGV"
      },
      "source": [
        "**The dataset**\n",
        "\n",
        "The member's information is contained in a dictionary and stored in the variable `member`. Don't forget to run the cell containing the dictionary!\n",
        "\n",
        "*Tip:* Remember, you can access a value from a dictionary using its key (e.g., `dictionary[\"key\"]`), and you can access a value from a list using its, zero-based, index position (e.g., `list[2]`)."
      ]
    },
    {
      "cell_type": "code",
      "execution_count": null,
      "metadata": {
        "id": "o8Ez-mTUiwIN"
      },
      "outputs": [],
      "source": [
        "# Dictionary containing member information\n",
        "member = {\n",
        "    \"name\": \"Bill\",\n",
        "    \"joined\": 2015,\n",
        "    \"address 1\": \"12309 Scratch Tree Lane\",\n",
        "    \"city\": \"Beverly Hills\",\n",
        "    \"state\": \"CA\",\n",
        "    # Subscriptions are order from most popular to least popular\n",
        "    \"subscriptions\" : [\n",
        "        'Little Known Hiss-tories podcast',\n",
        "        'email newsletter',\n",
        "        'Cat Nips subscription box'\n",
        "    ]\n",
        "}"
      ]
    },
    {
      "cell_type": "markdown",
      "metadata": {
        "id": "1i5gcJZUIWe-"
      },
      "source": [
        "Write your code to create the personalized greeting here. For reference, the greeting should read:\n",
        "\n",
        "> *Hello **[member name]**, Thank you for being a valued member for the last **[member's years of membership]** years. We have an exclusive discount on our **[member's top subscription with the service]**.*"
      ]
    },
    {
      "cell_type": "code",
      "execution_count": null,
      "metadata": {
        "id": "_WeTr341IWe_"
      },
      "outputs": [],
      "source": [
        "# Find the member's name from the dictionary\n",
        "\n",
        "\n",
        "# Find the member's years of membership (Calculate using the current year and\n",
        "# the year the member joined from the dictionary)\n",
        "\n",
        "\n",
        "# Find the member's top subscription (first item in the \"subscriptions\" list)\n",
        "\n",
        "\n",
        "# Create the greeting by concatenating lines of text with the variables just defined\n",
        "\n",
        "\n",
        "# Make the new variable the last thing in the cell to print it out\n"
      ]
    },
    {
      "cell_type": "markdown",
      "metadata": {
        "id": "FgsqJZovHIxS"
      },
      "source": [
        "## 6.&nbsp;Further resources and topics\n",
        "\n",
        "### Filled version of this notebook\n",
        "\n",
        "[Introduction to Programming with Python - Part 1 filled notebook](https://colab.research.google.com/github/ncsu-libraries-data-vis/introduction-to-programming-with-python/blob/main/filled_Introduction_to_Programming_with_Python_1.ipynb) - a version of this notebook with all code filled in for the guided activity and exercises.\n",
        "\n",
        "### Introduction to Programming with Python - Part 2\n",
        "\n",
        "In the next workshop we will cover control flow (if statements and for loops).\n",
        "\n",
        "### Resources\n",
        "\n",
        "- [A Byte of Python](https://python.swaroopch.com/) is a great intro book and reference for Python\n",
        "- [Official Python documentation and tutorials](https://docs.python.org/3/)\n",
        "- [Real Python](https://realpython.com/) contains a lot of different tutorials at different levels\n",
        "- [LinkedIn Learning](https://www.lynda.com/Python-training-tutorials/415-0.html) is free with NC State accounts and contains several video series for learning Python\n",
        "- [Dataquest](https://www.dataquest.io/) is a free then paid series of courses with an emphasis on data science\n",
        "\n",
        "### Topics\n",
        "\n",
        "- Other data structures: sets, tuples\n",
        "- Libraries, packages, and pip\n",
        "- Virtual environments\n",
        "- Text editors and local execution environments\n",
        "- The object-oriented paradigm in Python: classes, methods\n",
        "\n",
        "### Installing Python\n",
        "\n",
        "There are quite a few ways to install Python on your own computer, including the [official Python downloads](https://www.python.org/downloads/) and the very popular data-science focused [Anaconda Python distribution](https://www.anaconda.com/products/individual). Depending on your operating system, how you want to write code, and what type of projects you might work on, there are other approaches as well, such as using [pyenv](https://github.com/pyenv/pyenv) and [poetry](https://python-poetry.org/). If you're not sure which approach to take, feel free to get in touch and we'll talk through options and help you get set up.\n",
        "\n",
        "### Popular editors for Python\n",
        "\n",
        "Today we've been writing and running code in Google Colab, which is one particular version of Jupyter Notebooks. Depending on your projects and what you're working on, you may want to write your code in a text editor. While there are many options, if you're just getting started we recommend [Visual Studio Code](https://code.visualstudio.com/) for any operating system but are happy to talk through other editors.\n"
      ]
    },
    {
      "cell_type": "markdown",
      "metadata": {
        "id": "YjyTIZsdGI0D"
      },
      "source": [
        "## Evaluation survey\n",
        "Please, spend 1 minute answering these questions that can help us a lot on future workshops.\n",
        "\n",
        "[go.ncsu.edu/dvs-eval](https://go.ncsu.edu/dvs-eval)"
      ]
    },
    {
      "cell_type": "markdown",
      "metadata": {
        "id": "y1yQcuLJGI0F"
      },
      "source": [
        "## Credits\n",
        "\n",
        "These materials were developed by Claire Cahoon and Walt Gurley from the NC State University Libraries. Materials are based on workshops by Scott Bailey, Ashley Evans Bandy, Natalia Lopez, Vincent Tompkins, Javier de la Rosa, Peter Broadwell, and Simon Wiles."
      ]
    },
    {
      "cell_type": "markdown",
      "metadata": {
        "id": "ZzHNDXdRIWe_"
      },
      "source": [
        "## Additional Practice Activities"
      ]
    },
    {
      "cell_type": "markdown",
      "metadata": {
        "id": "T9aMr0koeKLE"
      },
      "source": [
        "### 1. Hidden Text: Recreate text using string manipulation\n",
        "\n",
        "Take the string **\"Dear Bill, You are invited to the workshop.\"** stored in the variable `letter` and manipulate it to produce the new string **\"Dear Participant, You are invited to 3 Python open labs after this session.\"**"
      ]
    },
    {
      "cell_type": "markdown",
      "metadata": {
        "id": "bd7uMht8nosK"
      },
      "source": [
        "Part 1: Slice the string stored in the variable `letter` so it only returns **\"Dear Bill, You are invited to\"**.\n",
        "\n",
        "*Tip:* The 'o' in the word 'to' is the 29th character."
      ]
    },
    {
      "cell_type": "code",
      "execution_count": 24,
      "metadata": {
        "colab": {
          "base_uri": "https://localhost:8080/"
        },
        "id": "GNae9M55SrK-",
        "outputId": "bd6b0f58-1864-4a21-e41f-0ead162d162d"
      },
      "outputs": [
        {
          "output_type": "stream",
          "name": "stdout",
          "text": [
            "Dear Bill, You are invited to\n"
          ]
        }
      ],
      "source": [
        "# Variable containing our original string\n",
        "letter = \"Dear Bill, You are invited to the workshop.\"\n",
        "\n",
        "# Slice 'letter' to return \"Dear Bill, You are invited to\"\n",
        "print(letter[:29])"
      ]
    },
    {
      "cell_type": "markdown",
      "metadata": {
        "id": "7OVX8qkOnxHI"
      },
      "source": [
        "Part 2: Concatenate the slice created above with the string **\" 3 Python open labs after this session.\"** so it returns **\"Dear Bill, You are invited to 5 Python open labs after this session.\"**\n",
        "\n",
        "*Tip:* Store this new string in a variable for access in the next step"
      ]
    },
    {
      "cell_type": "code",
      "execution_count": 25,
      "metadata": {
        "colab": {
          "base_uri": "https://localhost:8080/"
        },
        "id": "HVMnWOD_mviT",
        "outputId": "76a5d475-0664-498e-b5f7-8e4cd09fc7eb"
      },
      "outputs": [
        {
          "output_type": "stream",
          "name": "stdout",
          "text": [
            "Dear Bill, You are invited to 5 Python open labs after this session.\n"
          ]
        }
      ],
      "source": [
        "# Concatenate the slice of 'letter' with the new string\n",
        "new = letter[:29] + ' 5 Python open labs after this session.'\n",
        "\n",
        "# Print out the new string\n",
        "print(new)"
      ]
    },
    {
      "cell_type": "markdown",
      "metadata": {
        "id": "x4q22K3Gn3pP"
      },
      "source": [
        "Part 3: Replace the name \"Bill\" with the term \"Participant\" to return the final string **\"Dear Participant, You are invited to 5 Python open labs after this session.\"**\n",
        "\n",
        "*Tip:* String methods return new values, they do not modify the original string"
      ]
    },
    {
      "cell_type": "code",
      "execution_count": 31,
      "metadata": {
        "colab": {
          "base_uri": "https://localhost:8080/"
        },
        "id": "EHAcV5pqm0pA",
        "outputId": "dbfb6601-d0f6-400e-bbda-f13897c0d61f"
      },
      "outputs": [
        {
          "output_type": "stream",
          "name": "stdout",
          "text": [
            "Dear Participant, You are invited to 5 Python open labs after this session.\n"
          ]
        }
      ],
      "source": [
        "# Replace the name \"Bill\" with the word \"Participant\"\n",
        "newOne = letter[:5] + 'Participant' + letter[9:29] + ' 5 Python open labs after this session.'\n",
        "\n",
        "# Print out the final message\n",
        "print(newOne)"
      ]
    },
    {
      "cell_type": "markdown",
      "metadata": {
        "id": "-2J76E7NGx_G"
      },
      "source": [
        "### 2. More Hidden Text: Find hidden text using list, string, and number manipulation\n",
        "\n",
        "Construct the string stored in the variable `hidden_text` (**\"Dear Participant, You are invited to 5 Python open labs after this session.\"**) using the items contained in the list `text_list`"
      ]
    },
    {
      "cell_type": "code",
      "execution_count": 33,
      "metadata": {
        "id": "3I9iPBuEZHMU"
      },
      "outputs": [],
      "source": [
        "# The hidden text to construct\n",
        "hidden_text = \"Dear Participant, You are invited to 5 Python open labs after this session.\"\n",
        "\n",
        "# The list containing the values to construct the hidden string\n",
        "text_list = [\"You are invited to help solve this activity.\",\n",
        "        \"Dear Participant.\",\n",
        "        2,\n",
        "        \" open labs after this session.\"]"
      ]
    },
    {
      "cell_type": "markdown",
      "metadata": {
        "id": "DnWfYQbasroY"
      },
      "source": [
        "Part 1: Extract \"Dear Participant.\" from `text_list` using indexing and replace the period with a comma to return **\"Dear Participant,\"**.\n",
        "\n",
        "*Tip:* Remember to use variables to store the results of each part of the activity"
      ]
    },
    {
      "cell_type": "code",
      "execution_count": 40,
      "metadata": {
        "colab": {
          "base_uri": "https://localhost:8080/"
        },
        "id": "-x28PajcZNbn",
        "outputId": "b5a8b14a-9b9d-4ddc-88ef-07373976358b"
      },
      "outputs": [
        {
          "output_type": "stream",
          "name": "stdout",
          "text": [
            "Dear Participant,\n"
          ]
        }
      ],
      "source": [
        "# Extract the string \"Dear Participant.\" from 'text_list'\n",
        "first = text_list[1]\n",
        "\n",
        "# Replace the period with a comma\n",
        "newFirst = first.replace('.', ',')\n",
        "\n",
        "# Print out the results\n",
        "print(newFirst)"
      ]
    },
    {
      "cell_type": "markdown",
      "metadata": {
        "id": "jTeWFA-LuKjS"
      },
      "source": [
        "Part 2: Extract the first list item from `text_list` and slice the string to only return the phrase **\"You are invited to\"**\n",
        "\n",
        "*Tip:* The 'o' in the word 'to' is the 18th character."
      ]
    },
    {
      "cell_type": "code",
      "execution_count": 43,
      "metadata": {
        "colab": {
          "base_uri": "https://localhost:8080/"
        },
        "id": "B6POCXY7aWyD",
        "outputId": "7b03c2d0-83e6-4f93-b956-d0f3d8340197"
      },
      "outputs": [
        {
          "output_type": "stream",
          "name": "stdout",
          "text": [
            "You are invited to\n"
          ]
        }
      ],
      "source": [
        "# Extract the first list item from 'text_list'\n",
        "second = text_list[0]\n",
        "\n",
        "# Slice the string to only return \"You are invited to\"\n",
        "secondNew = second[:18]\n",
        "\n",
        "# Print out the results\n",
        "print(secondNew)"
      ]
    },
    {
      "cell_type": "markdown",
      "metadata": {
        "id": "MZXKS2t5ugsy"
      },
      "source": [
        "Part 3: Return the third item from `text_list` and add 1 to this number to return the integer **3**."
      ]
    },
    {
      "cell_type": "code",
      "execution_count": 46,
      "metadata": {
        "colab": {
          "base_uri": "https://localhost:8080/"
        },
        "id": "MjOijgP7bJpI",
        "outputId": "d5e7ee66-4732-4d51-fb77-ce26dd3d939f"
      },
      "outputs": [
        {
          "output_type": "stream",
          "name": "stdout",
          "text": [
            "3\n"
          ]
        }
      ],
      "source": [
        "# Extract the third list item from 'text_list'\n",
        "third = text_list[2]\n",
        "\n",
        "# Add 1 to the value\n",
        "thirdNew = third + 1\n",
        "\n",
        "# Print out the results\n",
        "print(thirdNew)"
      ]
    },
    {
      "cell_type": "markdown",
      "metadata": {
        "id": "-jOh2YEdu0x_"
      },
      "source": [
        "Part 4: Concatenate the values from parts 1, 2, and 3 with the last item in `text_list` to reveal the hidden message.\n",
        "\n",
        "*Tip:* The variable from part 3 contains an integer. To concatenate this value with other strings you need to first convert it to a string using the built in Python method `str()` (e.g., `str(number)`)"
      ]
    },
    {
      "cell_type": "code",
      "execution_count": 50,
      "metadata": {
        "colab": {
          "base_uri": "https://localhost:8080/"
        },
        "id": "aQpNYmFbFr_g",
        "outputId": "99be7d0a-97ff-4478-c420-71c8b5012d29"
      },
      "outputs": [
        {
          "output_type": "stream",
          "name": "stdout",
          "text": [
            "Dear Participant,You are invited to 3 open labs after this session.\n"
          ]
        }
      ],
      "source": [
        "# Print out the final message\n",
        "print(newFirst + secondNew + ' ' + str(thirdNew) + text_list[3])"
      ]
    }
  ],
  "metadata": {
    "colab": {
      "name": "Introduction_to_Programming_with_Python_1",
      "provenance": [],
      "toc_visible": true
    },
    "interpreter": {
      "hash": "0bb8fac8a0c82f4f5ccbcc488a26fe869e7789c40997937e38e89b37cd70a2e8"
    },
    "kernelspec": {
      "display_name": "Python 3.8.5 64-bit ('base': conda)",
      "name": "python3"
    },
    "language_info": {
      "codemirror_mode": {
        "name": "ipython",
        "version": 3
      },
      "file_extension": ".py",
      "mimetype": "text/x-python",
      "name": "python",
      "nbconvert_exporter": "python",
      "pygments_lexer": "ipython3",
      "version": "3.9.7"
    }
  },
  "nbformat": 4,
  "nbformat_minor": 0
}